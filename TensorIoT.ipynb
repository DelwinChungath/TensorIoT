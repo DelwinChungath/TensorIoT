{
  "nbformat": 4,
  "nbformat_minor": 0,
  "metadata": {
    "colab": {
      "name": "TensorIoT.ipynb",
      "provenance": [],
      "collapsed_sections": [],
      "authorship_tag": "ABX9TyPFwZ0HNZp/hm/LolsfP/O/"
    },
    "kernelspec": {
      "name": "python3",
      "display_name": "Python 3"
    },
    "language_info": {
      "name": "python"
    }
  },
  "cells": [
    {
      "cell_type": "code",
      "source": [
        "#pyspark packages imported for the required steps.\n",
        "from pyspark import SparkFiles\n",
        "from pyspark.sql import SparkSession\n",
        "from pyspark.sql.functions import *\n",
        "from pyspark.sql.functions import from_utc_timestamp\n",
        "from pyspark.sql.types import IntegerType\n",
        "import pyspark.sql.functions as F\n",
        "'''\n",
        "Choosed to import data directly from the link rather than downloading and later uploading so as to save Time.\"\n",
        "'''\n",
        "spark = SparkSession.builder.appName(\"test\").getOrCreate()\n",
        "url = \"http://snap.stanford.edu/data/amazon/productGraph/aggressive_dedup.json.gz\"\n",
        "spark.sparkContext.addFile(url)\n",
        "df = spark.read.option(\"multiline\",\"False\").json(\"file://\" + SparkFiles.get(\"aggressive_dedup.json.gz\"))\n",
        "#---Converted \"unixReviewTime\" \"MM-dd-yyyy ---#\n",
        "df4 = df.select(col(\"asin\"),col(\"helpful\"),col(\"overall\").astype(IntegerType()),col(\"reviewText\"),col(\"reviewTime\"),col(\"reviewerID\"),col(\"reviewerName\"),col(\"summary\"),from_unixtime(col(\"unixReviewTime\"),\"MM-dd-yyyy\").alias(\"ChangedReviewTime\" ))\n",
        "#---Used length() to identify the length of review Text---#\n",
        "df4 = df4.withColumn(\"length_review\", F.length(\"reviewText\"))\n",
        "\n",
        "df4.createOrReplaceTempView(\"temptbale\")\n",
        "df3 = spark.sql(\"select * from temptbale\")\n",
        "#------ Items with the Lease rating ----#\n",
        "x = df4.agg({\"overall\": \"min\"}).collect()[0][0]\n",
        "df6 = spark.sql(\"SELECT * FROM temptbale where overall = {}\".format(x))\n",
        "df6.show()\n",
        "#------ Items with the most rating ----# \n",
        "ax = df4.agg({\"overall\": \"max\"}).collect()[0][0]\n",
        "df7 = spark.sql(\"SELECT * FROM temptbale where overall = {}\".format(ax))\n",
        "df7.show()\n",
        "#------ Item with the lengthiest review ----# \n",
        "lax = df4.agg({\"length_review\": \"max\"}).collect()[0][0]\n",
        "df9 = spark.sql(\"SELECT * FROM temptbale where length_review = {}\".format(lax))\n",
        "df9.show()"
      ],
      "metadata": {
        "id": "YGeMfeoXAJ08"
      },
      "execution_count": 124,
      "outputs": []
    },
    {
      "cell_type": "code",
      "source": [
        "df4.write.parquet(\"/tmp/Test.parquet\")"
      ],
      "metadata": {
        "id": "JaE2om-lGKjB"
      },
      "execution_count": 132,
      "outputs": []
    },
    {
      "cell_type": "code",
      "source": [
        "ls\n"
      ],
      "metadata": {
        "colab": {
          "base_uri": "https://localhost:8080/"
        },
        "id": "dHOlxbCzHC7h",
        "outputId": "b5d6104e-9b88-4d62-f7c5-cf5889a1d07e"
      },
      "execution_count": 133,
      "outputs": [
        {
          "output_type": "stream",
          "name": "stdout",
          "text": [
            "\u001b[0m\u001b[01;34msample_data\u001b[0m/  \u001b[01;34mspark-warehouse\u001b[0m/\n"
          ]
        }
      ]
    },
    {
      "cell_type": "code",
      "source": [
        ""
      ],
      "metadata": {
        "colab": {
          "base_uri": "https://localhost:8080/"
        },
        "id": "kRaMy28SRQBd",
        "outputId": "54dc436f-c438-4bfd-89f0-5b560c75c23e"
      },
      "execution_count": 131,
      "outputs": [
        {
          "output_type": "stream",
          "name": "stdout",
          "text": [
            "557\n",
            "+----------+-------+-------+--------------------+-----------+--------------------+------------+-------+-----------------+-------------+\n",
            "|      asin|helpful|overall|          reviewText| reviewTime|          reviewerID|reviewerName|summary|ChangedReviewTime|length_review|\n",
            "+----------+-------+-------+--------------------+-----------+--------------------+------------+-------+-----------------+-------------+\n",
            "|1492111619| [0, 0]|      5|This book is a gr...|09 26, 2013|A0000440NYTE2D2YB089|  Kristen S.|    Wow|       09-26-2013|          557|\n",
            "+----------+-------+-------+--------------------+-----------+--------------------+------------+-------+-----------------+-------------+\n",
            "\n"
          ]
        }
      ]
    },
    {
      "cell_type": "code",
      "source": [
        ""
      ],
      "metadata": {
        "id": "xH5d76JYRabX"
      },
      "execution_count": null,
      "outputs": []
    }
  ]
}